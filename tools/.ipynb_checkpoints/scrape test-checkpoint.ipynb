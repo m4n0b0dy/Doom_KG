{
 "cells": [
  {
   "cell_type": "code",
   "execution_count": 1,
   "metadata": {},
   "outputs": [],
   "source": [
    "from rap_scrpr import *\n",
    "import pandas as pd"
   ]
  },
  {
   "cell_type": "code",
   "execution_count": 2,
   "metadata": {},
   "outputs": [],
   "source": [
    "link_df = pd.read_csv('../data/clean_links.csv')"
   ]
  },
  {
   "cell_type": "code",
   "execution_count": null,
   "metadata": {},
   "outputs": [
    {
     "name": "stdout",
     "output_type": "stream",
     "text": [
      "0 songs cleaned raw (not properly formatted)\n",
      "2 songs cleaned clean\n",
      "J. Wells_raw.json made! 3.840571641921997\n",
      "1 songs cleaned raw (not properly formatted)\n",
      "51 songs cleaned clean\n",
      "J-Zone_raw.json made! 21.74716830253601\n"
     ]
    }
   ],
   "source": [
    "scrape_multi_artists(list(zip(link_df['link'], link_df['name']))[3601:3605])"
   ]
  },
  {
   "cell_type": "code",
   "execution_count": null,
   "metadata": {},
   "outputs": [],
   "source": []
  }
 ],
 "metadata": {
  "kernelspec": {
   "display_name": "Python 3",
   "language": "python",
   "name": "python3"
  },
  "language_info": {
   "codemirror_mode": {
    "name": "ipython",
    "version": 3
   },
   "file_extension": ".py",
   "mimetype": "text/x-python",
   "name": "python",
   "nbconvert_exporter": "python",
   "pygments_lexer": "ipython3",
   "version": "3.7.4"
  }
 },
 "nbformat": 4,
 "nbformat_minor": 2
}
